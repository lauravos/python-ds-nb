{
 "cells": [
  {
   "cell_type": "markdown",
   "id": "c1e14e69-2bcd-4b98-a5c0-89f7fd7cda07",
   "metadata": {},
   "source": [
    "# Laura Gagnon-Vos\n",
    "### https://github.com/lauravos/python-ds-nb \n",
    "## Task 10"
   ]
  },
  {
   "cell_type": "markdown",
   "id": "b771c3dc-bc4d-47fe-a9d5-c14e7c403a2a",
   "metadata": {},
   "source": [
    "10. Create a new Jupyter Notebook (the name of the notebook should be your S number). Add a Markdown cell that contains your name. Add a Code cell and write Python that uses loops to draw the following pattern:\n",
    "\n",
    "```\n",
    "*      *\n",
    "**    **\n",
    "***  ***\n",
    "********\n",
    "```\n",
    "Make sure to add and submit both the new notebook and the changes to this notebook for this assignment."
   ]
  },
  {
   "cell_type": "code",
   "execution_count": 4,
   "id": "23108250-3921-41fc-a5cc-255507c39708",
   "metadata": {},
   "outputs": [
    {
     "name": "stdout",
     "output_type": "stream",
     "text": [
      "*      *\n",
      "**    **\n",
      "***  ***\n",
      "********\n"
     ]
    }
   ],
   "source": [
    "# number of rows of stars\n",
    "n = 4\n",
    "\n",
    "#make the pattern\n",
    "for x in range(1, n + 1):\n",
    "    # left half\n",
    "    for asterisk in range(x):\n",
    "        print('*', end = '')\n",
    "    # spaces\n",
    "    for space in range(2 * (n - x)):\n",
    "        print(' ', end = '')\n",
    "    # right half\n",
    "    for asterisk in range(x):\n",
    "        print('*', end = '')\n",
    "    # new line between rows\n",
    "    print()\n",
    "    \n",
    "    \n",
    "    \n",
    "    "
   ]
  },
  {
   "cell_type": "code",
   "execution_count": 5,
   "id": "a251a5b3-dc0c-4b3e-ae19-1d2ad883fd31",
   "metadata": {},
   "outputs": [
    {
     "name": "stderr",
     "output_type": "stream",
     "text": [
      "[NbConvertApp] Converting notebook s567849.ipynb to html\n",
      "[NbConvertApp] Writing 273368 bytes to s567849.html\n"
     ]
    }
   ],
   "source": [
    "!jupyter nbconvert --to html s567849.ipynb"
   ]
  },
  {
   "cell_type": "code",
   "execution_count": null,
   "id": "604d4b39-d907-410e-96c8-1f85fd84bb7f",
   "metadata": {},
   "outputs": [],
   "source": []
  }
 ],
 "metadata": {
  "kernelspec": {
   "display_name": "Python 3 (ipykernel)",
   "language": "python",
   "name": "python3"
  },
  "language_info": {
   "codemirror_mode": {
    "name": "ipython",
    "version": 3
   },
   "file_extension": ".py",
   "mimetype": "text/x-python",
   "name": "python",
   "nbconvert_exporter": "python",
   "pygments_lexer": "ipython3",
   "version": "3.11.4"
  }
 },
 "nbformat": 4,
 "nbformat_minor": 5
}
